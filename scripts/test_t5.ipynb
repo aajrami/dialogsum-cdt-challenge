{
 "cells": [
  {
   "cell_type": "code",
   "execution_count": 6,
   "metadata": {},
   "outputs": [],
   "source": [
    "from transformers import T5Tokenizer, T5ForConditionalGeneration\n",
    "from torch.nn import Module\n",
    "from pprint import pprint\n",
    "\n",
    "from sentence_transformers import SentenceTransformer\n",
    "st_model = SentenceTransformer('paraphrase-MiniLM-L6-v2')\n",
    "\n",
    "\n",
    "class inspect_func(Module):\n",
    "    def __call__(self, *args, **kwargs):\n",
    "        pprint(args)\n",
    "        pprint(kwargs)\n",
    "        print(kwargs[\"encoder_hidden_states\"].shape)\n",
    "        import pdb; pdb.set_trace()\n"
   ]
  },
  {
   "cell_type": "code",
   "execution_count": 7,
   "metadata": {},
   "outputs": [],
   "source": [
    "tokenizer = T5Tokenizer.from_pretrained(\"t5-small\")\n",
    "\n",
    "\n"
   ]
  },
  {
   "cell_type": "code",
   "execution_count": 22,
   "metadata": {},
   "outputs": [],
   "source": [
    "class CustomT5(T5ForConditionalGeneration):\n",
    "    def __init__(self, *args, st_model=None, tokenizer=None, **kwargs):    \n",
    "        super().__init__(*args, **kwargs)\n",
    "        self.encoder = self.set_encoder(self.encoder, st_model, tokenizer)\n",
    "        self.decoder = inspect_func()\n",
    "        self.t5_tokenizer = tokenizer\n",
    "\n",
    "    def forward(self, text):\n",
    "        tokenized = self.t5_tokenizer(text)\n",
    "        return super().forward(**tokenized)\n",
    "\n",
    "\n",
    "    # def set_encoder(self, standard_encoder, st_model, tokenizer):\n",
    "    #     class CustomEncoder(Module):\n",
    "    #         def __init__(self, *args, **kwargs):    \n",
    "    #             super().__init__(*args, **kwargs)\n",
    "    #             self.t5_encoder = standard_encoder\n",
    "    #             self.st_model = st_model\n",
    "    #             self.tokenizer = tokenizer\n",
    "\n",
    "    #         def forward(self, text):\n",
    "\n",
    "    #             tokenized = self.tokenizer(text)\n",
    "    #             print(\"hello\\n\"*30)\n",
    "    #             encoder_output = self.t5_encoder(**tokenized)\n",
    "    #             print(\"we are here\")\n",
    "    #             return(encoder_output)\n",
    "        \n",
    "    #     return CustomEncoder()\n",
    "                \n",
    "\n",
    "\n",
    "\n"
   ]
  },
  {
   "cell_type": "code",
   "execution_count": 23,
   "metadata": {},
   "outputs": [
    {
     "name": "stderr",
     "output_type": "stream",
     "text": [
      "Some weights of the model checkpoint at t5-small were not used when initializing CustomT5: ['decoder.block.3.layer.2.DenseReluDense.wi.weight', 'decoder.block.2.layer.1.EncDecAttention.q.weight', 'decoder.block.2.layer.2.DenseReluDense.wo.weight', 'encoder.block.5.layer.0.layer_norm.weight', 'decoder.block.2.layer.0.SelfAttention.v.weight', 'encoder.block.3.layer.0.layer_norm.weight', 'encoder.block.4.layer.1.layer_norm.weight', 'decoder.block.1.layer.1.EncDecAttention.o.weight', 'encoder.block.2.layer.1.layer_norm.weight', 'decoder.block.0.layer.0.SelfAttention.q.weight', 'decoder.block.3.layer.0.SelfAttention.q.weight', 'decoder.block.5.layer.2.DenseReluDense.wo.weight', 'decoder.block.0.layer.2.layer_norm.weight', 'decoder.final_layer_norm.weight', 'decoder.block.0.layer.1.EncDecAttention.k.weight', 'decoder.block.3.layer.0.SelfAttention.v.weight', 'decoder.block.3.layer.2.layer_norm.weight', 'decoder.block.2.layer.0.SelfAttention.q.weight', 'encoder.block.2.layer.1.DenseReluDense.wi.weight', 'decoder.block.4.layer.0.layer_norm.weight', 'encoder.block.0.layer.1.DenseReluDense.wi.weight', 'decoder.block.1.layer.0.SelfAttention.v.weight', 'encoder.block.5.layer.1.DenseReluDense.wi.weight', 'decoder.block.2.layer.1.EncDecAttention.o.weight', 'encoder.block.0.layer.1.layer_norm.weight', 'decoder.block.2.layer.0.SelfAttention.k.weight', 'decoder.block.5.layer.2.layer_norm.weight', 'decoder.block.5.layer.0.SelfAttention.o.weight', 'decoder.block.0.layer.1.layer_norm.weight', 'encoder.block.1.layer.0.SelfAttention.v.weight', 'decoder.block.2.layer.1.EncDecAttention.v.weight', 'encoder.block.4.layer.1.DenseReluDense.wo.weight', 'decoder.block.1.layer.0.SelfAttention.o.weight', 'decoder.block.2.layer.0.layer_norm.weight', 'encoder.block.5.layer.0.SelfAttention.v.weight', 'decoder.block.0.layer.0.SelfAttention.o.weight', 'decoder.block.1.layer.0.SelfAttention.k.weight', 'encoder.block.1.layer.1.DenseReluDense.wo.weight', 'decoder.block.0.layer.0.layer_norm.weight', 'decoder.block.0.layer.1.EncDecAttention.q.weight', 'encoder.block.2.layer.0.SelfAttention.k.weight', 'decoder.block.4.layer.1.EncDecAttention.k.weight', 'encoder.block.1.layer.0.layer_norm.weight', 'encoder.final_layer_norm.weight', 'decoder.block.1.layer.2.DenseReluDense.wi.weight', 'decoder.block.4.layer.2.layer_norm.weight', 'decoder.block.5.layer.1.EncDecAttention.v.weight', 'encoder.block.4.layer.0.layer_norm.weight', 'decoder.block.5.layer.0.SelfAttention.k.weight', 'encoder.block.3.layer.0.SelfAttention.k.weight', 'encoder.block.2.layer.1.DenseReluDense.wo.weight', 'decoder.block.2.layer.0.SelfAttention.o.weight', 'decoder.block.4.layer.2.DenseReluDense.wo.weight', 'encoder.block.3.layer.1.DenseReluDense.wo.weight', 'decoder.block.0.layer.0.SelfAttention.v.weight', 'decoder.block.3.layer.0.SelfAttention.o.weight', 'decoder.block.4.layer.0.SelfAttention.q.weight', 'decoder.block.1.layer.1.EncDecAttention.q.weight', 'encoder.block.3.layer.1.layer_norm.weight', 'decoder.block.1.layer.0.layer_norm.weight', 'decoder.block.5.layer.1.EncDecAttention.k.weight', 'decoder.block.0.layer.2.DenseReluDense.wo.weight', 'decoder.block.4.layer.2.DenseReluDense.wi.weight', 'decoder.block.4.layer.1.layer_norm.weight', 'encoder.block.2.layer.0.layer_norm.weight', 'encoder.block.2.layer.0.SelfAttention.v.weight', 'decoder.block.3.layer.1.EncDecAttention.k.weight', 'encoder.block.0.layer.0.SelfAttention.v.weight', 'decoder.block.2.layer.1.layer_norm.weight', 'encoder.block.3.layer.1.DenseReluDense.wi.weight', 'decoder.block.1.layer.2.layer_norm.weight', 'encoder.block.4.layer.0.SelfAttention.k.weight', 'decoder.block.3.layer.1.EncDecAttention.o.weight', 'decoder.block.4.layer.0.SelfAttention.k.weight', 'decoder.block.4.layer.0.SelfAttention.v.weight', 'encoder.block.5.layer.1.layer_norm.weight', 'encoder.block.4.layer.0.SelfAttention.v.weight', 'encoder.block.4.layer.1.DenseReluDense.wi.weight', 'decoder.block.5.layer.2.DenseReluDense.wi.weight', 'encoder.block.5.layer.0.SelfAttention.o.weight', 'encoder.block.1.layer.1.layer_norm.weight', 'encoder.block.5.layer.1.DenseReluDense.wo.weight', 'decoder.block.1.layer.1.layer_norm.weight', 'decoder.block.2.layer.2.layer_norm.weight', 'decoder.block.0.layer.1.EncDecAttention.v.weight', 'decoder.block.4.layer.1.EncDecAttention.v.weight', 'encoder.block.5.layer.0.SelfAttention.q.weight', 'encoder.block.1.layer.0.SelfAttention.o.weight', 'decoder.block.0.layer.0.SelfAttention.relative_attention_bias.weight', 'encoder.block.3.layer.0.SelfAttention.v.weight', 'encoder.block.4.layer.0.SelfAttention.o.weight', 'encoder.block.1.layer.0.SelfAttention.k.weight', 'encoder.block.3.layer.0.SelfAttention.o.weight', 'decoder.block.3.layer.2.DenseReluDense.wo.weight', 'encoder.block.1.layer.0.SelfAttention.q.weight', 'decoder.block.2.layer.1.EncDecAttention.k.weight', 'decoder.block.1.layer.2.DenseReluDense.wo.weight', 'encoder.block.1.layer.1.DenseReluDense.wi.weight', 'decoder.block.2.layer.2.DenseReluDense.wi.weight', 'decoder.block.5.layer.0.SelfAttention.v.weight', 'encoder.block.0.layer.0.layer_norm.weight', 'encoder.block.0.layer.0.SelfAttention.k.weight', 'encoder.block.5.layer.0.SelfAttention.k.weight', 'decoder.block.3.layer.1.layer_norm.weight', 'decoder.block.5.layer.1.layer_norm.weight', 'decoder.block.3.layer.0.layer_norm.weight', 'decoder.block.3.layer.1.EncDecAttention.q.weight', 'decoder.block.5.layer.0.SelfAttention.q.weight', 'decoder.block.0.layer.0.SelfAttention.k.weight', 'decoder.block.5.layer.1.EncDecAttention.q.weight', 'decoder.block.1.layer.1.EncDecAttention.v.weight', 'encoder.block.0.layer.1.DenseReluDense.wo.weight', 'encoder.block.0.layer.0.SelfAttention.relative_attention_bias.weight', 'encoder.block.0.layer.0.SelfAttention.q.weight', 'decoder.block.0.layer.2.DenseReluDense.wi.weight', 'decoder.block.4.layer.1.EncDecAttention.q.weight', 'encoder.block.3.layer.0.SelfAttention.q.weight', 'decoder.block.4.layer.0.SelfAttention.o.weight', 'decoder.block.3.layer.1.EncDecAttention.v.weight', 'decoder.block.1.layer.0.SelfAttention.q.weight', 'encoder.block.2.layer.0.SelfAttention.q.weight', 'encoder.block.2.layer.0.SelfAttention.o.weight', 'encoder.block.0.layer.0.SelfAttention.o.weight', 'decoder.block.5.layer.0.layer_norm.weight', 'decoder.block.0.layer.1.EncDecAttention.o.weight', 'decoder.block.3.layer.0.SelfAttention.k.weight', 'decoder.block.5.layer.1.EncDecAttention.o.weight', 'decoder.block.1.layer.1.EncDecAttention.k.weight', 'encoder.block.4.layer.0.SelfAttention.q.weight', 'decoder.block.4.layer.1.EncDecAttention.o.weight']\n",
      "- This IS expected if you are initializing CustomT5 from the checkpoint of a model trained on another task or with another architecture (e.g. initializing a BertForSequenceClassification model from a BertForPreTraining model).\n",
      "- This IS NOT expected if you are initializing CustomT5 from the checkpoint of a model that you expect to be exactly identical (initializing a BertForSequenceClassification model from a BertForSequenceClassification model).\n",
      "Some weights of CustomT5 were not initialized from the model checkpoint at t5-small and are newly initialized: ['encoder.t5_encoder.block.5.layer.1.DenseReluDense.wi.weight', 'encoder.st_model.0.auto_model.encoder.layer.5.output.LayerNorm.bias', 'encoder.t5_encoder.block.1.layer.1.DenseReluDense.wo.weight', 'encoder.st_model.0.auto_model.encoder.layer.2.intermediate.dense.bias', 'encoder.st_model.0.auto_model.encoder.layer.0.intermediate.dense.weight', 'encoder.st_model.0.auto_model.encoder.layer.4.output.dense.bias', 'encoder.st_model.0.auto_model.encoder.layer.2.attention.self.key.weight', 'encoder.st_model.0.auto_model.encoder.layer.1.output.dense.weight', 'encoder.t5_encoder.block.5.layer.0.SelfAttention.k.weight', 'encoder.t5_encoder.block.5.layer.0.layer_norm.weight', 'encoder.t5_encoder.block.3.layer.1.DenseReluDense.wi.weight', 'encoder.st_model.0.auto_model.encoder.layer.3.output.dense.weight', 'encoder.t5_encoder.block.4.layer.0.layer_norm.weight', 'encoder.st_model.0.auto_model.encoder.layer.2.attention.output.LayerNorm.bias', 'encoder.t5_encoder.block.0.layer.0.SelfAttention.o.weight', 'encoder.st_model.0.auto_model.encoder.layer.0.output.dense.bias', 'encoder.t5_encoder.block.2.layer.1.DenseReluDense.wo.weight', 'encoder.st_model.0.auto_model.encoder.layer.4.attention.self.key.weight', 'encoder.st_model.0.auto_model.encoder.layer.5.intermediate.dense.bias', 'encoder.st_model.0.auto_model.embeddings.LayerNorm.bias', 'encoder.t5_encoder.block.1.layer.0.SelfAttention.v.weight', 'encoder.st_model.0.auto_model.encoder.layer.0.attention.self.query.weight', 'encoder.st_model.0.auto_model.encoder.layer.2.attention.self.value.bias', 'encoder.st_model.0.auto_model.embeddings.position_ids', 'encoder.st_model.0.auto_model.encoder.layer.3.attention.output.LayerNorm.bias', 'encoder.t5_encoder.block.4.layer.0.SelfAttention.k.weight', 'encoder.t5_encoder.block.3.layer.0.SelfAttention.k.weight', 'encoder.st_model.0.auto_model.encoder.layer.0.attention.self.key.weight', 'encoder.st_model.0.auto_model.encoder.layer.0.output.LayerNorm.bias', 'encoder.st_model.0.auto_model.embeddings.LayerNorm.weight', 'encoder.st_model.0.auto_model.encoder.layer.1.output.LayerNorm.bias', 'encoder.t5_encoder.block.0.layer.1.DenseReluDense.wi.weight', 'encoder.st_model.0.auto_model.encoder.layer.3.attention.self.value.weight', 'encoder.st_model.0.auto_model.encoder.layer.0.output.LayerNorm.weight', 'encoder.st_model.0.auto_model.encoder.layer.1.attention.self.value.weight', 'encoder.st_model.0.auto_model.encoder.layer.4.attention.self.value.bias', 'encoder.st_model.0.auto_model.encoder.layer.1.intermediate.dense.bias', 'encoder.t5_encoder.block.0.layer.0.SelfAttention.v.weight', 'encoder.st_model.0.auto_model.encoder.layer.1.attention.output.LayerNorm.weight', 'encoder.st_model.0.auto_model.encoder.layer.5.output.LayerNorm.weight', 'encoder.st_model.0.auto_model.encoder.layer.2.intermediate.dense.weight', 'encoder.t5_encoder.block.4.layer.0.SelfAttention.o.weight', 'encoder.t5_encoder.block.2.layer.0.layer_norm.weight', 'encoder.st_model.0.auto_model.pooler.dense.bias', 'encoder.st_model.0.auto_model.encoder.layer.1.attention.output.dense.weight', 'encoder.t5_encoder.block.1.layer.1.DenseReluDense.wi.weight', 'encoder.st_model.0.auto_model.encoder.layer.1.attention.self.query.bias', 'encoder.t5_encoder.block.5.layer.0.SelfAttention.q.weight', 'encoder.st_model.0.auto_model.encoder.layer.1.attention.output.LayerNorm.bias', 'encoder.st_model.0.auto_model.encoder.layer.5.attention.output.dense.bias', 'encoder.st_model.0.auto_model.embeddings.position_embeddings.weight', 'encoder.st_model.0.auto_model.encoder.layer.3.attention.self.key.bias', 'encoder.t5_encoder.block.3.layer.1.layer_norm.weight', 'encoder.st_model.0.auto_model.embeddings.token_type_embeddings.weight', 'encoder.t5_encoder.block.0.layer.0.layer_norm.weight', 'encoder.st_model.0.auto_model.encoder.layer.4.attention.self.query.weight', 'encoder.t5_encoder.block.2.layer.0.SelfAttention.k.weight', 'encoder.st_model.0.auto_model.encoder.layer.3.attention.self.query.bias', 'encoder.t5_encoder.block.5.layer.1.layer_norm.weight', 'encoder.st_model.0.auto_model.encoder.layer.3.attention.self.query.weight', 'encoder.t5_encoder.block.0.layer.0.SelfAttention.q.weight', 'encoder.st_model.0.auto_model.encoder.layer.3.output.LayerNorm.bias', 'encoder.st_model.0.auto_model.encoder.layer.4.attention.self.key.bias', 'encoder.t5_encoder.block.2.layer.0.SelfAttention.q.weight', 'encoder.st_model.0.auto_model.encoder.layer.2.output.LayerNorm.weight', 'encoder.st_model.0.auto_model.encoder.layer.3.output.LayerNorm.weight', 'encoder.st_model.0.auto_model.encoder.layer.4.intermediate.dense.weight', 'encoder.t5_encoder.block.4.layer.1.DenseReluDense.wo.weight', 'encoder.st_model.0.auto_model.encoder.layer.3.attention.output.dense.bias', 'encoder.st_model.0.auto_model.encoder.layer.5.attention.self.value.bias', 'encoder.t5_encoder.block.3.layer.0.layer_norm.weight', 'encoder.t5_encoder.block.1.layer.0.SelfAttention.o.weight', 'encoder.t5_encoder.block.2.layer.1.DenseReluDense.wi.weight', 'encoder.t5_encoder.block.3.layer.0.SelfAttention.o.weight', 'encoder.st_model.0.auto_model.encoder.layer.2.attention.self.query.bias', 'encoder.t5_encoder.block.0.layer.1.DenseReluDense.wo.weight', 'encoder.st_model.0.auto_model.encoder.layer.0.attention.self.value.weight', 'encoder.st_model.0.auto_model.encoder.layer.1.intermediate.dense.weight', 'encoder.st_model.0.auto_model.encoder.layer.2.attention.output.LayerNorm.weight', 'encoder.st_model.0.auto_model.encoder.layer.5.attention.output.LayerNorm.bias', 'encoder.st_model.0.auto_model.encoder.layer.5.output.dense.weight', 'encoder.st_model.0.auto_model.encoder.layer.1.attention.output.dense.bias', 'encoder.st_model.0.auto_model.encoder.layer.3.intermediate.dense.bias', 'encoder.st_model.0.auto_model.encoder.layer.5.output.dense.bias', 'encoder.st_model.0.auto_model.encoder.layer.2.output.dense.bias', 'encoder.st_model.0.auto_model.encoder.layer.0.attention.output.LayerNorm.bias', 'encoder.t5_encoder.block.0.layer.1.layer_norm.weight', 'encoder.st_model.0.auto_model.encoder.layer.5.attention.self.key.weight', 'encoder.t5_encoder.block.3.layer.0.SelfAttention.q.weight', 'encoder.st_model.0.auto_model.encoder.layer.0.attention.self.query.bias', 'encoder.st_model.0.auto_model.embeddings.word_embeddings.weight', 'encoder.st_model.0.auto_model.encoder.layer.4.intermediate.dense.bias', 'encoder.t5_encoder.block.2.layer.1.layer_norm.weight', 'encoder.st_model.0.auto_model.encoder.layer.2.attention.self.key.bias', 'encoder.t5_encoder.block.5.layer.0.SelfAttention.v.weight', 'encoder.st_model.0.auto_model.encoder.layer.1.attention.self.key.bias', 'encoder.st_model.0.auto_model.encoder.layer.5.attention.self.query.weight', 'encoder.st_model.0.auto_model.encoder.layer.3.intermediate.dense.weight', 'encoder.st_model.0.auto_model.encoder.layer.4.attention.output.dense.weight', 'encoder.st_model.0.auto_model.encoder.layer.5.attention.output.dense.weight', 'encoder.st_model.0.auto_model.encoder.layer.2.output.dense.weight', 'encoder.t5_encoder.block.4.layer.0.SelfAttention.v.weight', 'encoder.st_model.0.auto_model.encoder.layer.1.output.LayerNorm.weight', 'encoder.t5_encoder.block.4.layer.1.DenseReluDense.wi.weight', 'encoder.st_model.0.auto_model.encoder.layer.5.attention.self.key.bias', 'encoder.t5_encoder.block.1.layer.1.layer_norm.weight', 'encoder.t5_encoder.block.4.layer.1.layer_norm.weight', 'encoder.st_model.0.auto_model.encoder.layer.0.attention.output.dense.bias', 'encoder.st_model.0.auto_model.encoder.layer.2.attention.output.dense.weight', 'encoder.t5_encoder.final_layer_norm.weight', 'encoder.st_model.0.auto_model.encoder.layer.5.intermediate.dense.weight', 'encoder.t5_encoder.block.4.layer.0.SelfAttention.q.weight', 'encoder.st_model.0.auto_model.encoder.layer.0.attention.self.value.bias', 'encoder.st_model.0.auto_model.encoder.layer.2.attention.self.value.weight', 'encoder.t5_encoder.block.5.layer.1.DenseReluDense.wo.weight', 'encoder.st_model.0.auto_model.encoder.layer.0.attention.output.dense.weight', 'encoder.st_model.0.auto_model.encoder.layer.2.attention.output.dense.bias', 'encoder.st_model.0.auto_model.encoder.layer.0.output.dense.weight', 'encoder.t5_encoder.block.3.layer.0.SelfAttention.v.weight', 'encoder.st_model.0.auto_model.encoder.layer.3.attention.self.value.bias', 'encoder.st_model.0.auto_model.encoder.layer.2.attention.self.query.weight', 'encoder.st_model.0.auto_model.encoder.layer.4.attention.output.LayerNorm.weight', 'encoder.t5_encoder.block.1.layer.0.layer_norm.weight', 'encoder.t5_encoder.block.5.layer.0.SelfAttention.o.weight', 'encoder.st_model.0.auto_model.encoder.layer.1.attention.self.value.bias', 'encoder.st_model.0.auto_model.encoder.layer.3.attention.output.LayerNorm.weight', 'encoder.st_model.0.auto_model.encoder.layer.4.attention.output.LayerNorm.bias', 'encoder.st_model.0.auto_model.encoder.layer.0.attention.self.key.bias', 'encoder.st_model.0.auto_model.encoder.layer.3.attention.output.dense.weight', 'encoder.t5_encoder.block.3.layer.1.DenseReluDense.wo.weight', 'encoder.st_model.0.auto_model.pooler.dense.weight', 'encoder.t5_encoder.block.2.layer.0.SelfAttention.o.weight', 'encoder.st_model.0.auto_model.encoder.layer.0.attention.output.LayerNorm.weight', 'encoder.st_model.0.auto_model.encoder.layer.4.attention.output.dense.bias', 'encoder.st_model.0.auto_model.encoder.layer.3.attention.self.key.weight', 'encoder.t5_encoder.block.0.layer.0.SelfAttention.k.weight', 'encoder.st_model.0.auto_model.encoder.layer.5.attention.self.query.bias', 'encoder.st_model.0.auto_model.encoder.layer.4.output.LayerNorm.weight', 'encoder.st_model.0.auto_model.encoder.layer.3.output.dense.bias', 'encoder.st_model.0.auto_model.encoder.layer.5.attention.self.value.weight', 'encoder.st_model.0.auto_model.encoder.layer.4.attention.self.value.weight', 'encoder.st_model.0.auto_model.encoder.layer.4.output.dense.weight', 'encoder.t5_encoder.block.1.layer.0.SelfAttention.q.weight', 'encoder.st_model.0.auto_model.encoder.layer.1.attention.self.key.weight', 'encoder.st_model.0.auto_model.encoder.layer.2.output.LayerNorm.bias', 'encoder.t5_encoder.block.1.layer.0.SelfAttention.k.weight', 'encoder.t5_encoder.block.0.layer.0.SelfAttention.relative_attention_bias.weight', 'encoder.st_model.0.auto_model.encoder.layer.0.intermediate.dense.bias', 'encoder.st_model.0.auto_model.encoder.layer.1.attention.self.query.weight', 'encoder.t5_encoder.block.2.layer.0.SelfAttention.v.weight', 'encoder.st_model.0.auto_model.encoder.layer.1.output.dense.bias', 'encoder.st_model.0.auto_model.encoder.layer.5.attention.output.LayerNorm.weight', 'encoder.st_model.0.auto_model.encoder.layer.4.output.LayerNorm.bias', 'encoder.st_model.0.auto_model.encoder.layer.4.attention.self.query.bias']\n",
      "You should probably TRAIN this model on a down-stream task to be able to use it for predictions and inference.\n"
     ]
    }
   ],
   "source": [
    "from IPython.display import clear_output\n",
    "model = CustomT5.from_pretrained(\"t5-small\", st_model=st_model, tokenizer=tokenizer)\n"
   ]
  },
  {
   "cell_type": "code",
   "execution_count": null,
   "metadata": {},
   "outputs": [],
   "source": []
  },
  {
   "cell_type": "code",
   "execution_count": 24,
   "metadata": {},
   "outputs": [
    {
     "ename": "TypeError",
     "evalue": "forward() got an unexpected keyword argument 'input_ids'",
     "output_type": "error",
     "traceback": [
      "\u001b[0;31m---------------------------------------------------------------------------\u001b[0m",
      "\u001b[0;31mTypeError\u001b[0m                                 Traceback (most recent call last)",
      "\u001b[0;32m<ipython-input-24-13b54ff26bec>\u001b[0m in \u001b[0;36m<module>\u001b[0;34m\u001b[0m\n\u001b[0;32m----> 1\u001b[0;31m \u001b[0mmodel\u001b[0m\u001b[0;34m(\u001b[0m\u001b[0;34m\"will this work?\"\u001b[0m\u001b[0;34m)\u001b[0m\u001b[0;34m\u001b[0m\u001b[0;34m\u001b[0m\u001b[0m\n\u001b[0m",
      "\u001b[0;32m~/.local/lib/python3.8/site-packages/torch/nn/modules/module.py\u001b[0m in \u001b[0;36m_call_impl\u001b[0;34m(self, *input, **kwargs)\u001b[0m\n\u001b[1;32m   1049\u001b[0m         if not (self._backward_hooks or self._forward_hooks or self._forward_pre_hooks or _global_backward_hooks\n\u001b[1;32m   1050\u001b[0m                 or _global_forward_hooks or _global_forward_pre_hooks):\n\u001b[0;32m-> 1051\u001b[0;31m             \u001b[0;32mreturn\u001b[0m \u001b[0mforward_call\u001b[0m\u001b[0;34m(\u001b[0m\u001b[0;34m*\u001b[0m\u001b[0minput\u001b[0m\u001b[0;34m,\u001b[0m \u001b[0;34m**\u001b[0m\u001b[0mkwargs\u001b[0m\u001b[0;34m)\u001b[0m\u001b[0;34m\u001b[0m\u001b[0;34m\u001b[0m\u001b[0m\n\u001b[0m\u001b[1;32m   1052\u001b[0m         \u001b[0;31m# Do not call functions when jit is used\u001b[0m\u001b[0;34m\u001b[0m\u001b[0;34m\u001b[0m\u001b[0;34m\u001b[0m\u001b[0m\n\u001b[1;32m   1053\u001b[0m         \u001b[0mfull_backward_hooks\u001b[0m\u001b[0;34m,\u001b[0m \u001b[0mnon_full_backward_hooks\u001b[0m \u001b[0;34m=\u001b[0m \u001b[0;34m[\u001b[0m\u001b[0;34m]\u001b[0m\u001b[0;34m,\u001b[0m \u001b[0;34m[\u001b[0m\u001b[0;34m]\u001b[0m\u001b[0;34m\u001b[0m\u001b[0;34m\u001b[0m\u001b[0m\n",
      "\u001b[0;32m~/.local/lib/python3.8/site-packages/transformers/models/t5/modeling_t5.py\u001b[0m in \u001b[0;36mforward\u001b[0;34m(self, input_ids, attention_mask, decoder_input_ids, decoder_attention_mask, head_mask, decoder_head_mask, cross_attn_head_mask, encoder_outputs, past_key_values, inputs_embeds, decoder_inputs_embeds, labels, use_cache, output_attentions, output_hidden_states, return_dict)\u001b[0m\n\u001b[1;32m   1569\u001b[0m         \u001b[0;32mif\u001b[0m \u001b[0mencoder_outputs\u001b[0m \u001b[0;32mis\u001b[0m \u001b[0;32mNone\u001b[0m\u001b[0;34m:\u001b[0m\u001b[0;34m\u001b[0m\u001b[0;34m\u001b[0m\u001b[0m\n\u001b[1;32m   1570\u001b[0m             \u001b[0;31m# Convert encoder inputs in embeddings if needed\u001b[0m\u001b[0;34m\u001b[0m\u001b[0;34m\u001b[0m\u001b[0;34m\u001b[0m\u001b[0m\n\u001b[0;32m-> 1571\u001b[0;31m             encoder_outputs = self.encoder(\n\u001b[0m\u001b[1;32m   1572\u001b[0m                 \u001b[0minput_ids\u001b[0m\u001b[0;34m=\u001b[0m\u001b[0minput_ids\u001b[0m\u001b[0;34m,\u001b[0m\u001b[0;34m\u001b[0m\u001b[0;34m\u001b[0m\u001b[0m\n\u001b[1;32m   1573\u001b[0m                 \u001b[0mattention_mask\u001b[0m\u001b[0;34m=\u001b[0m\u001b[0mattention_mask\u001b[0m\u001b[0;34m,\u001b[0m\u001b[0;34m\u001b[0m\u001b[0;34m\u001b[0m\u001b[0m\n",
      "\u001b[0;32m~/.local/lib/python3.8/site-packages/torch/nn/modules/module.py\u001b[0m in \u001b[0;36m_call_impl\u001b[0;34m(self, *input, **kwargs)\u001b[0m\n\u001b[1;32m   1049\u001b[0m         if not (self._backward_hooks or self._forward_hooks or self._forward_pre_hooks or _global_backward_hooks\n\u001b[1;32m   1050\u001b[0m                 or _global_forward_hooks or _global_forward_pre_hooks):\n\u001b[0;32m-> 1051\u001b[0;31m             \u001b[0;32mreturn\u001b[0m \u001b[0mforward_call\u001b[0m\u001b[0;34m(\u001b[0m\u001b[0;34m*\u001b[0m\u001b[0minput\u001b[0m\u001b[0;34m,\u001b[0m \u001b[0;34m**\u001b[0m\u001b[0mkwargs\u001b[0m\u001b[0;34m)\u001b[0m\u001b[0;34m\u001b[0m\u001b[0;34m\u001b[0m\u001b[0m\n\u001b[0m\u001b[1;32m   1052\u001b[0m         \u001b[0;31m# Do not call functions when jit is used\u001b[0m\u001b[0;34m\u001b[0m\u001b[0;34m\u001b[0m\u001b[0;34m\u001b[0m\u001b[0m\n\u001b[1;32m   1053\u001b[0m         \u001b[0mfull_backward_hooks\u001b[0m\u001b[0;34m,\u001b[0m \u001b[0mnon_full_backward_hooks\u001b[0m \u001b[0;34m=\u001b[0m \u001b[0;34m[\u001b[0m\u001b[0;34m]\u001b[0m\u001b[0;34m,\u001b[0m \u001b[0;34m[\u001b[0m\u001b[0;34m]\u001b[0m\u001b[0;34m\u001b[0m\u001b[0;34m\u001b[0m\u001b[0m\n",
      "\u001b[0;31mTypeError\u001b[0m: forward() got an unexpected keyword argument 'input_ids'"
     ]
    }
   ],
   "source": [
    "model(\"will this work?\")"
   ]
  },
  {
   "cell_type": "code",
   "execution_count": null,
   "metadata": {},
   "outputs": [],
   "source": []
  }
 ],
 "metadata": {
  "interpreter": {
   "hash": "31f2aee4e71d21fbe5cf8b01ff0e069b9275f58929596ceb00d14d90e3e16cd6"
  },
  "kernelspec": {
   "display_name": "Python 3.6.8 64-bit",
   "language": "python",
   "name": "python3"
  },
  "language_info": {
   "codemirror_mode": {
    "name": "ipython",
    "version": 3
   },
   "file_extension": ".py",
   "mimetype": "text/x-python",
   "name": "python",
   "nbconvert_exporter": "python",
   "pygments_lexer": "ipython3",
   "version": "3.8.10"
  },
  "orig_nbformat": 4
 },
 "nbformat": 4,
 "nbformat_minor": 2
}
