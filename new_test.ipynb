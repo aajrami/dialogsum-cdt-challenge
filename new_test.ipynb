{
 "cells": [
  {
   "cell_type": "code",
   "execution_count": null,
   "metadata": {},
   "outputs": [],
   "source": [
    "from transformers import T5Tokenizer, T5ForConditionalGeneration, AutoModel, AutoTokenizer\n",
    "from experimental.t5_dataset import T5Dataset\n",
    "import json\n",
    "import os\n",
    "import os.path as op\n",
    "from processing.vocab import VocabSummaryDataset\n",
    "\n",
    "st_tokenizer = AutoTokenizer.from_pretrained(\"sentence-transformers/msmarco-bert-base-dot-v5\") #model_args={\"embedding_size\":512})\n",
    "t5_tokenizer = T5Tokenizer.from_pretrained(\"t5-base\")\n"
   ]
  },
  {
   "cell_type": "code",
   "execution_count": null,
   "metadata": {},
   "outputs": [],
   "source": [
    "\n",
    "DATA_DIR = \"DialogSum_Data\"\n",
    "\n",
    "SAMPLE_DATA = op.join(DATA_DIR, 'dialogsum.sample.jsonl')\n",
    "TEST_DATA = op.join(DATA_DIR, 'dialogsum.test.jsonl')\n",
    "TRAIN_DATA = op.join(DATA_DIR, 'dialogsum.train.jsonl')\n",
    "DEV_DATA = op.join(DATA_DIR, 'dialogsum.dev.jsonl')\n",
    "\n",
    "def load_jsonl(filepath):\n",
    "    \n",
    "    output_list = []\n",
    "    \n",
    "    with open(filepath) as sd_file:\n",
    "        lines = sd_file.readlines()\n",
    "    \n",
    "    for line in lines:\n",
    "        output_list.append(json.loads(line))\n",
    "\n",
    "    return output_list\n",
    "\n",
    "\n",
    "if __name__ == \"__main__\":\n",
    "    dev_data_list = load_jsonl(DEV_DATA)\n",
    "    dev_dataset = T5Dataset(dev_data_list, \n",
    "                  summary_tokenizer=st_tokenizer,\n",
    "                  debug=True)   \n",
    "    for i in dev_dataset:\n",
    "        pass\n"
   ]
  }
 ],
 "metadata": {
  "language_info": {
   "name": "python"
  },
  "orig_nbformat": 4
 },
 "nbformat": 4,
 "nbformat_minor": 2
}
